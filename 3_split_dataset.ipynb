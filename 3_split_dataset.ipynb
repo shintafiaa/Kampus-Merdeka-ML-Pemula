{
  "nbformat": 4,
  "nbformat_minor": 0,
  "metadata": {
    "colab": {
      "name": "3 split dataset.ipynb",
      "provenance": [],
      "authorship_tag": "ABX9TyP1tFP8bHzlTEIFc5gNCrmL",
      "include_colab_link": true
    },
    "kernelspec": {
      "name": "python3",
      "display_name": "Python 3"
    },
    "language_info": {
      "name": "python"
    }
  },
  "cells": [
    {
      "cell_type": "markdown",
      "metadata": {
        "id": "view-in-github",
        "colab_type": "text"
      },
      "source": [
        "<a href=\"https://colab.research.google.com/github/shintafiaa/Kampus-Merdeka-ML-Pemula/blob/main/3_split_dataset.ipynb\" target=\"_parent\"><img src=\"https://colab.research.google.com/assets/colab-badge.svg\" alt=\"Open In Colab\"/></a>"
      ]
    },
    {
      "cell_type": "markdown",
      "metadata": {
        "id": "kzY_RkaeN868"
      },
      "source": [
        "Membagi dataset dengan fungsi train_test_split dari library sklearn.\n",
        "\n",
        "random_state digunakan untuk proses shuffling. Menentukan nilai random_state digunakan untuk memastikan bahwa dataset yang dibagikan adalah tetap/konsisten. Kalau tidak ditentukan nilai random_state maka data train dan data test yang kita dapatkan akan selalu berbeda setiap kali menjalankan proses split. Sehingga akurasi model algoritma ML akan berbeda setiap kali di-run.\n",
        "\n"
      ]
    },
    {
      "cell_type": "code",
      "metadata": {
        "colab": {
          "base_uri": "https://localhost:8080/"
        },
        "id": "ZrxJIutVMCxm",
        "outputId": "4dbf8fe0-d503-40d3-a797-129ef8a61877"
      },
      "source": [
        "from sklearn.model_selection import train_test_split\n",
        " \n",
        "X_data = range(10)\n",
        "y_data = range(10)\n",
        " \n",
        "print(\"random_state ditentukan\")\n",
        "for i in range(3):\n",
        "    X_train, X_test, y_train, y_test = train_test_split(X_data, y_data, test_size = 0.3, random_state = 42)\n",
        "    print(y_test)\n",
        " \n",
        " \n",
        "print(\"random_state tidak ditentukan\")\n",
        "for i in range(3):\n",
        "    X_train, X_test, y_train, y_test = train_test_split(X_data, y_data, test_size = 0.3, random_state = None)\n",
        "    print(y_test)"
      ],
      "execution_count": 3,
      "outputs": [
        {
          "output_type": "stream",
          "name": "stdout",
          "text": [
            "random_state ditentukan\n",
            "[8, 1, 5]\n",
            "[8, 1, 5]\n",
            "[8, 1, 5]\n",
            "random_state tidak ditentukan\n",
            "[4, 9, 1]\n",
            "[8, 6, 4]\n",
            "[6, 0, 4]\n"
          ]
        }
      ]
    }
  ]
}