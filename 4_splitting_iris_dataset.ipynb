{
  "nbformat": 4,
  "nbformat_minor": 0,
  "metadata": {
    "colab": {
      "name": "4 splitting iris dataset.ipynb",
      "provenance": [],
      "authorship_tag": "ABX9TyPE/yI9o0yY5/VtQwvucXgG",
      "include_colab_link": true
    },
    "kernelspec": {
      "name": "python3",
      "display_name": "Python 3"
    },
    "language_info": {
      "name": "python"
    }
  },
  "cells": [
    {
      "cell_type": "markdown",
      "metadata": {
        "id": "view-in-github",
        "colab_type": "text"
      },
      "source": [
        "<a href=\"https://colab.research.google.com/github/shintafiaa/Kampus-Merdeka-ML-Pemula/blob/main/4_splitting_iris_dataset.ipynb\" target=\"_parent\"><img src=\"https://colab.research.google.com/assets/colab-badge.svg\" alt=\"Open In Colab\"/></a>"
      ]
    },
    {
      "cell_type": "markdown",
      "metadata": {
        "id": "UPmp7TdvR-oG"
      },
      "source": [
        "library sklearn menyediakan dataset iris."
      ]
    },
    {
      "cell_type": "code",
      "metadata": {
        "id": "VT1ojWgtR0P3"
      },
      "source": [
        "import pandas as pd\n",
        "import sklearn\n",
        "from sklearn import datasets"
      ],
      "execution_count": 8,
      "outputs": []
    },
    {
      "cell_type": "code",
      "metadata": {
        "id": "tXv7AsSLSIVV"
      },
      "source": [
        "# load iris dataset\n",
        "iris = datasets.load_iris()"
      ],
      "execution_count": 10,
      "outputs": []
    },
    {
      "cell_type": "code",
      "metadata": {
        "id": "K0dpriLASRet"
      },
      "source": [
        "# pisahkan atribut dan label pada iris dataset\n",
        "x=iris.data\n",
        "y=iris.target"
      ],
      "execution_count": 12,
      "outputs": []
    },
    {
      "cell_type": "markdown",
      "metadata": {
        "id": "KIAUEI7XThlT"
      },
      "source": [
        "fungsi train_test_split mengembalikan empat nilai yaitu atribut dari train set (x_train), atribut dari test set (x_test), target dari train set (y_train), dan atribut dari test set (y_test).\n",
        "\n",
        "test_size adalah presentase test set dari dataset keseluruhan."
      ]
    },
    {
      "cell_type": "code",
      "metadata": {
        "id": "RU-h7tkXTh70"
      },
      "source": [
        "from sklearn.model_selection import train_test_split\n",
        " \n",
        "# membagi dataset menjadi training dan testing \n",
        "x_train, x_test, y_train, y_test = train_test_split(x, y, test_size=0.2)"
      ],
      "execution_count": 13,
      "outputs": []
    },
    {
      "cell_type": "markdown",
      "metadata": {
        "id": "t0bK8w1CUDqc"
      },
      "source": [
        "total data pada dataset iris adalah 150. maka, banyak data pada tes set adalah 20% dari 150 yaitu 30."
      ]
    },
    {
      "cell_type": "code",
      "metadata": {
        "colab": {
          "base_uri": "https://localhost:8080/"
        },
        "id": "0l9AWPfFUD1F",
        "outputId": "700ba59a-49f6-4179-832d-27120dff7db0"
      },
      "source": [
        "# menghitung panjang/jumlah data pada x_test\n",
        "len(x_test)"
      ],
      "execution_count": 14,
      "outputs": [
        {
          "output_type": "execute_result",
          "data": {
            "text/plain": [
              "30"
            ]
          },
          "metadata": {},
          "execution_count": 14
        }
      ]
    }
  ]
}