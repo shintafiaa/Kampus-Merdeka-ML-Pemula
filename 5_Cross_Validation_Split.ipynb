{
  "nbformat": 4,
  "nbformat_minor": 0,
  "metadata": {
    "colab": {
      "name": "5 Cross Validation Split.ipynb",
      "provenance": [],
      "authorship_tag": "ABX9TyOjA5I2g+561E/3PngJspfh",
      "include_colab_link": true
    },
    "kernelspec": {
      "name": "python3",
      "display_name": "Python 3"
    },
    "language_info": {
      "name": "python"
    }
  },
  "cells": [
    {
      "cell_type": "markdown",
      "metadata": {
        "id": "view-in-github",
        "colab_type": "text"
      },
      "source": [
        "<a href=\"https://colab.research.google.com/github/shintafiaa/Kampus-Merdeka-ML-Pemula/blob/main/5_Cross_Validation_Split.ipynb\" target=\"_parent\"><img src=\"https://colab.research.google.com/assets/colab-badge.svg\" alt=\"Open In Colab\"/></a>"
      ]
    },
    {
      "cell_type": "code",
      "metadata": {
        "id": "shBX5VZ-0p2Z"
      },
      "source": [
        "import sklearn\n",
        "from sklearn import datasets\n",
        " \n",
        "# Load iris dataset\n",
        "iris = datasets.load_iris()"
      ],
      "execution_count": 1,
      "outputs": []
    },
    {
      "cell_type": "markdown",
      "metadata": {
        "id": "6NktrEp-1Fx1"
      },
      "source": [
        "Memisahkan data atribut dan label"
      ]
    },
    {
      "cell_type": "code",
      "metadata": {
        "id": "tt9i1Y5X1C30"
      },
      "source": [
        "# mendefinisikan atribut dan label pada dataset\n",
        "x=iris.data\n",
        "y=iris.target"
      ],
      "execution_count": 2,
      "outputs": []
    },
    {
      "cell_type": "code",
      "metadata": {
        "id": "J3EqSmSi1Kbb"
      },
      "source": [
        "from sklearn import tree\n",
        " \n",
        "# membuat model dengan decision tree ckassifier\n",
        "clf = tree.DecisionTreeClassifier()"
      ],
      "execution_count": 3,
      "outputs": []
    },
    {
      "cell_type": "markdown",
      "metadata": {
        "id": "SSS-n3Lh1fNh"
      },
      "source": [
        "Parameter dari fungsi cross_val_score yaitu:\n",
        "clf --> model machine learning;\n",
        "\n",
        "x --> atribut data;\n",
        "\n",
        "y --> label data;\n",
        "\n",
        "cv --> banyaknya fold;"
      ]
    },
    {
      "cell_type": "code",
      "metadata": {
        "id": "-UhgiDWG1eTV"
      },
      "source": [
        "from sklearn.model_selection import cross_val_score\n",
        " \n",
        "# mengevaluasi performa model dengan cross_val_score\n",
        "scores = cross_val_score(clf, x, y, cv=5)"
      ],
      "execution_count": 4,
      "outputs": []
    },
    {
      "cell_type": "markdown",
      "metadata": {
        "id": "PJFphi3u2DTl"
      },
      "source": [
        "Menampilkan hasil akurasi pengujian tiap fold."
      ]
    },
    {
      "cell_type": "code",
      "metadata": {
        "colab": {
          "base_uri": "https://localhost:8080/"
        },
        "id": "ba3wIH0o1_Uo",
        "outputId": "4dd2eb95-6ee2-4423-b5fd-3f77313a398b"
      },
      "source": [
        "scores"
      ],
      "execution_count": 5,
      "outputs": [
        {
          "output_type": "execute_result",
          "data": {
            "text/plain": [
              "array([0.96666667, 0.96666667, 0.9       , 1.        , 1.        ])"
            ]
          },
          "metadata": {},
          "execution_count": 5
        }
      ]
    }
  ]
}