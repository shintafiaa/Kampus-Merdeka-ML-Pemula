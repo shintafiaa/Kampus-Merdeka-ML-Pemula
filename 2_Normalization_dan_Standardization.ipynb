{
  "nbformat": 4,
  "nbformat_minor": 0,
  "metadata": {
    "colab": {
      "name": "2 Normalization dan Standardization.ipynb",
      "provenance": [],
      "authorship_tag": "ABX9TyOm3jL9vR/ErXMTe2yBxKZ1",
      "include_colab_link": true
    },
    "kernelspec": {
      "name": "python3",
      "display_name": "Python 3"
    },
    "language_info": {
      "name": "python"
    }
  },
  "cells": [
    {
      "cell_type": "markdown",
      "metadata": {
        "id": "view-in-github",
        "colab_type": "text"
      },
      "source": [
        "<a href=\"https://colab.research.google.com/github/shintafiaa/Kampus-Merdeka-ML-Pemula/blob/main/2_Normalization_dan_Standardization.ipynb\" target=\"_parent\"><img src=\"https://colab.research.google.com/assets/colab-badge.svg\" alt=\"Open In Colab\"/></a>"
      ]
    },
    {
      "cell_type": "markdown",
      "metadata": {
        "id": "lsDXrqjRbpyq"
      },
      "source": [
        "**TEKNIK NORMALIZATION-MIN MAX SCALING**"
      ]
    },
    {
      "cell_type": "markdown",
      "metadata": {
        "id": "sd-xrTK3aEfG"
      },
      "source": [
        "Salah satu contoh teknik normalization adalah min-max scaling.\n",
        "\n",
        "min-max scaling disediakan oleh library sklearn.\n",
        "\n",
        "Import library min-max scaling dan masukkan data."
      ]
    },
    {
      "cell_type": "code",
      "metadata": {
        "id": "RpYxaKo7Z8Tl"
      },
      "source": [
        "from sklearn.preprocessing import MinMaxScaler\n",
        "data = [[12000000, 33], [35000000, 45], [4000000, 23], [6500000, 26], [9000000, 29]]"
      ],
      "execution_count": 1,
      "outputs": []
    },
    {
      "cell_type": "markdown",
      "metadata": {
        "id": "FVm3grToalfG"
      },
      "source": [
        "Buat objek yang menyimpan fungsi MinMaxScaler().\n",
        "\n",
        "Panggil fungsi fit() isi dengan argumen data.\n",
        "\n",
        "Fungsi fit untuk menentukan nilai min dan max tiap kolom."
      ]
    },
    {
      "cell_type": "code",
      "metadata": {
        "colab": {
          "base_uri": "https://localhost:8080/"
        },
        "id": "mSLo21S8airn",
        "outputId": "0c6dccfe-1941-4741-f637-712ee65f7ad9"
      },
      "source": [
        "scaler = MinMaxScaler()\n",
        "scaler.fit(data)"
      ],
      "execution_count": 2,
      "outputs": [
        {
          "output_type": "execute_result",
          "data": {
            "text/plain": [
              "MinMaxScaler(copy=True, feature_range=(0, 1))"
            ]
          },
          "metadata": {},
          "execution_count": 2
        }
      ]
    },
    {
      "cell_type": "markdown",
      "metadata": {
        "id": "0rULx7drbR02"
      },
      "source": [
        "Fungsi transform mengaplikasikan scaling pada data."
      ]
    },
    {
      "cell_type": "code",
      "metadata": {
        "colab": {
          "base_uri": "https://localhost:8080/"
        },
        "id": "hBt_my1MbV9E",
        "outputId": "cfdf9b44-7d25-4170-8181-8750dd1970cc"
      },
      "source": [
        "print(scaler.transform(data))"
      ],
      "execution_count": 3,
      "outputs": [
        {
          "output_type": "stream",
          "name": "stdout",
          "text": [
            "[[0.25806452 0.45454545]\n",
            " [1.         1.        ]\n",
            " [0.         0.        ]\n",
            " [0.08064516 0.13636364]\n",
            " [0.16129032 0.27272727]]\n"
          ]
        }
      ]
    },
    {
      "cell_type": "markdown",
      "metadata": {
        "id": "hQdMkLwLdedo"
      },
      "source": [
        "**STANDARDIZATION**"
      ]
    },
    {
      "cell_type": "code",
      "metadata": {
        "id": "0TDK30EKdjiW"
      },
      "source": [
        "from sklearn import preprocessing\n",
        "data = [[12000000, 33], [35000000, 45], [4000000, 23], [6500000, 26], [9000000, 29]]"
      ],
      "execution_count": 4,
      "outputs": []
    },
    {
      "cell_type": "markdown",
      "metadata": {
        "id": "qB4khLs4d6jE"
      },
      "source": [
        "Fungsi fit() menghitung mean dan standard deviation yang kemudian akan digunakan oleh fungsi transform."
      ]
    },
    {
      "cell_type": "code",
      "metadata": {
        "id": "HnVZmyYbeZ8B"
      },
      "source": [
        "scaler = preprocessing.StandardScaler().fit(data)"
      ],
      "execution_count": 5,
      "outputs": []
    },
    {
      "cell_type": "markdown",
      "metadata": {
        "id": "OMRAuI0ZehFq"
      },
      "source": [
        "Panggil transform untuk mengaplikasikan standard scaling."
      ]
    },
    {
      "cell_type": "code",
      "metadata": {
        "colab": {
          "base_uri": "https://localhost:8080/"
        },
        "id": "0SLgcCv9emb4",
        "outputId": "21ec1747-0c2b-442f-f399-06f1cb6209f3"
      },
      "source": [
        "data = scaler.transform(data)\n",
        "data"
      ],
      "execution_count": 6,
      "outputs": [
        {
          "output_type": "execute_result",
          "data": {
            "text/plain": [
              "array([[-0.11638732,  0.23521877],\n",
              "       [ 1.94277296,  1.80334389],\n",
              "       [-0.83261698, -1.07155217],\n",
              "       [-0.60879521, -0.67952089],\n",
              "       [-0.38497344, -0.28748961]])"
            ]
          },
          "metadata": {},
          "execution_count": 6
        }
      ]
    }
  ]
}