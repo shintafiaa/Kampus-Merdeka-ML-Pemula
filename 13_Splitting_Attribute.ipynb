{
  "nbformat": 4,
  "nbformat_minor": 0,
  "metadata": {
    "colab": {
      "name": "13 Splitting Attribute.ipynb",
      "provenance": [],
      "authorship_tag": "ABX9TyNwTRQWd3hFRVdBAv9sfydb",
      "include_colab_link": true
    },
    "kernelspec": {
      "name": "python3",
      "display_name": "Python 3"
    },
    "language_info": {
      "name": "python"
    }
  },
  "cells": [
    {
      "cell_type": "markdown",
      "metadata": {
        "id": "view-in-github",
        "colab_type": "text"
      },
      "source": [
        "<a href=\"https://colab.research.google.com/github/shintafiaa/Kampus-Merdeka-ML-Pemula/blob/main/13_Splitting_Attribute.ipynb\" target=\"_parent\"><img src=\"https://colab.research.google.com/assets/colab-badge.svg\" alt=\"Open In Colab\"/></a>"
      ]
    },
    {
      "cell_type": "code",
      "metadata": {
        "colab": {
          "base_uri": "https://localhost:8080/"
        },
        "id": "xG0C_w8BwOm8",
        "outputId": "cf11ef5c-719d-42bc-d774-050b8e194f8e"
      },
      "source": [
        "import pandas as pd\n",
        "\n",
        "Artist = pd.DataFrame({'Name': ['Isyana Sarasvati', 'Nicholas Saputra', 'Raisa Andriana'],\n",
        "                          'Age': [30, 36, 32]})\n",
        "print(\"Public Figure from Indonesia: \\n\", Artist)\n",
        "\n",
        "Artist[['First', 'Last']] = Artist.Name.str.split(expand=True)\n",
        "print(\"\\nSplit kolom 'Name', lalu tambahkan kedua kolom: \\n\", Artist)"
      ],
      "execution_count": 3,
      "outputs": [
        {
          "output_type": "stream",
          "name": "stdout",
          "text": [
            "Public Figure from Indonesia: \n",
            "                Name  Age\n",
            "0  Isyana Sarasvati   30\n",
            "1  Nicholas Saputra   36\n",
            "2    Raisa Andriana   32\n",
            "\n",
            "Split kolom 'Name', lalu tambahkan kedua kolom: \n",
            "                Name  Age     First       Last\n",
            "0  Isyana Sarasvati   30    Isyana  Sarasvati\n",
            "1  Nicholas Saputra   36  Nicholas    Saputra\n",
            "2    Raisa Andriana   32     Raisa   Andriana\n"
          ]
        }
      ]
    }
  ]
}